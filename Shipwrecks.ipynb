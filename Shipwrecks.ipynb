{
 "cells": [
  {
   "cell_type": "code",
   "execution_count": 1,
   "metadata": {},
   "outputs": [],
   "source": [
    "## this allows us to pull and push data from and to mongodb\n",
    "import pymongo \n",
    "## allows us to use pandas\n",
    "import pandas as pd "
   ]
  },
  {
   "cell_type": "code",
   "execution_count": 2,
   "metadata": {},
   "outputs": [],
   "source": [
    " ## the mongo client is used to pass our credentials so that mongodb can verify that we have the right permissions \n",
    "from pymongo import MongoClient\n",
    "client = MongoClient(\"mongodb+srv://<username>:<password>@sandbox.w7p98.mongodb.net/<database>?retryWrites=true&w=majority\")\n"
   ]
  },
  {
   "cell_type": "code",
   "execution_count": 3,
   "metadata": {},
   "outputs": [],
   "source": [
    "# connect to database\n",
    "# i am using the sample_geospatial database that comes with mongodb\n",
    "db = client[\"sample_geospatial\"]\n",
    "# connect to collection (a collection is the sql equivalent of a table)\n",
    "col = db[\"shipwrecks\"]\n",
    "x = col.find_one()"
   ]
  },
  {
   "cell_type": "code",
   "execution_count": 4,
   "metadata": {},
   "outputs": [
    {
     "name": "stdout",
     "output_type": "stream",
     "text": [
      "{'_id': ObjectId('578f6fa2df35c7fbdbaed8c4'), 'recrd': '', 'vesslterms': '', 'feature_type': 'Wrecks - Visible', 'chart': 'US,U1,graph,DNC H1409860', 'latdec': 9.3547792, 'londec': -79.9081268, 'gp_quality': '', 'depth': '', 'sounding_type': '', 'history': '', 'quasou': '', 'watlev': 'always dry', 'coordinates': [-79.9081268, 9.3547792]}\n"
     ]
    }
   ],
   "source": [
    "## the output is in json\n",
    "print(x)"
   ]
  },
  {
   "cell_type": "code",
   "execution_count": 5,
   "metadata": {},
   "outputs": [],
   "source": [
    "# pass shipwrecks collection into pandas dataframe\n",
    "df = pd.DataFrame(list(col.find()))"
   ]
  },
  {
   "cell_type": "code",
   "execution_count": 6,
   "metadata": {},
   "outputs": [
    {
     "data": {
      "text/html": [
       "<div>\n",
       "<style scoped>\n",
       "    .dataframe tbody tr th:only-of-type {\n",
       "        vertical-align: middle;\n",
       "    }\n",
       "\n",
       "    .dataframe tbody tr th {\n",
       "        vertical-align: top;\n",
       "    }\n",
       "\n",
       "    .dataframe thead th {\n",
       "        text-align: right;\n",
       "    }\n",
       "</style>\n",
       "<table border=\"1\" class=\"dataframe\">\n",
       "  <thead>\n",
       "    <tr style=\"text-align: right;\">\n",
       "      <th></th>\n",
       "      <th>_id</th>\n",
       "      <th>recrd</th>\n",
       "      <th>vesslterms</th>\n",
       "      <th>feature_type</th>\n",
       "      <th>chart</th>\n",
       "      <th>latdec</th>\n",
       "      <th>londec</th>\n",
       "      <th>gp_quality</th>\n",
       "      <th>depth</th>\n",
       "      <th>sounding_type</th>\n",
       "      <th>history</th>\n",
       "      <th>quasou</th>\n",
       "      <th>watlev</th>\n",
       "      <th>coordinates</th>\n",
       "    </tr>\n",
       "  </thead>\n",
       "  <tbody>\n",
       "    <tr>\n",
       "      <th>0</th>\n",
       "      <td>578f6fa2df35c7fbdbaed8c4</td>\n",
       "      <td></td>\n",
       "      <td></td>\n",
       "      <td>Wrecks - Visible</td>\n",
       "      <td>US,U1,graph,DNC H1409860</td>\n",
       "      <td>9.354779</td>\n",
       "      <td>-79.908127</td>\n",
       "      <td></td>\n",
       "      <td></td>\n",
       "      <td></td>\n",
       "      <td></td>\n",
       "      <td></td>\n",
       "      <td>always dry</td>\n",
       "      <td>[-79.9081268, 9.3547792]</td>\n",
       "    </tr>\n",
       "    <tr>\n",
       "      <th>1</th>\n",
       "      <td>578f6fa2df35c7fbdbaed8c5</td>\n",
       "      <td></td>\n",
       "      <td></td>\n",
       "      <td>Wrecks - Visible</td>\n",
       "      <td>US,U1,graph,DNC H1409860</td>\n",
       "      <td>9.334030</td>\n",
       "      <td>-79.935722</td>\n",
       "      <td></td>\n",
       "      <td></td>\n",
       "      <td></td>\n",
       "      <td></td>\n",
       "      <td></td>\n",
       "      <td>always dry</td>\n",
       "      <td>[-79.9357223, 9.3340302]</td>\n",
       "    </tr>\n",
       "    <tr>\n",
       "      <th>2</th>\n",
       "      <td>578f6fa2df35c7fbdbaed8c6</td>\n",
       "      <td></td>\n",
       "      <td></td>\n",
       "      <td>Wrecks - Submerged, dangerous</td>\n",
       "      <td>US,U1,graph,DNC H1409860</td>\n",
       "      <td>9.356057</td>\n",
       "      <td>-79.907417</td>\n",
       "      <td></td>\n",
       "      <td></td>\n",
       "      <td></td>\n",
       "      <td></td>\n",
       "      <td>depth unknown</td>\n",
       "      <td>always under water/submerged</td>\n",
       "      <td>[-79.9074173, 9.3560572]</td>\n",
       "    </tr>\n",
       "    <tr>\n",
       "      <th>3</th>\n",
       "      <td>578f6fa2df35c7fbdbaed8c7</td>\n",
       "      <td></td>\n",
       "      <td></td>\n",
       "      <td>Wrecks - Visible</td>\n",
       "      <td>US,U1,graph,DNC H1409860</td>\n",
       "      <td>9.339050</td>\n",
       "      <td>-79.913712</td>\n",
       "      <td></td>\n",
       "      <td></td>\n",
       "      <td></td>\n",
       "      <td></td>\n",
       "      <td></td>\n",
       "      <td>always dry</td>\n",
       "      <td>[-79.9137115, 9.3390503]</td>\n",
       "    </tr>\n",
       "    <tr>\n",
       "      <th>4</th>\n",
       "      <td>578f6fa2df35c7fbdbaed8c8</td>\n",
       "      <td></td>\n",
       "      <td></td>\n",
       "      <td>Wrecks - Submerged, dangerous</td>\n",
       "      <td>US,U1,graph,DNC H1409860</td>\n",
       "      <td>9.341881</td>\n",
       "      <td>-79.910385</td>\n",
       "      <td></td>\n",
       "      <td></td>\n",
       "      <td></td>\n",
       "      <td></td>\n",
       "      <td>depth unknown</td>\n",
       "      <td>always under water/submerged</td>\n",
       "      <td>[-79.9103851, 9.3418808]</td>\n",
       "    </tr>\n",
       "  </tbody>\n",
       "</table>\n",
       "</div>"
      ],
      "text/plain": [
       "                        _id recrd vesslterms                   feature_type  \\\n",
       "0  578f6fa2df35c7fbdbaed8c4                                Wrecks - Visible   \n",
       "1  578f6fa2df35c7fbdbaed8c5                                Wrecks - Visible   \n",
       "2  578f6fa2df35c7fbdbaed8c6                   Wrecks - Submerged, dangerous   \n",
       "3  578f6fa2df35c7fbdbaed8c7                                Wrecks - Visible   \n",
       "4  578f6fa2df35c7fbdbaed8c8                   Wrecks - Submerged, dangerous   \n",
       "\n",
       "                      chart    latdec     londec gp_quality depth  \\\n",
       "0  US,U1,graph,DNC H1409860  9.354779 -79.908127                    \n",
       "1  US,U1,graph,DNC H1409860  9.334030 -79.935722                    \n",
       "2  US,U1,graph,DNC H1409860  9.356057 -79.907417                    \n",
       "3  US,U1,graph,DNC H1409860  9.339050 -79.913712                    \n",
       "4  US,U1,graph,DNC H1409860  9.341881 -79.910385                    \n",
       "\n",
       "  sounding_type history         quasou                        watlev  \\\n",
       "0                                                         always dry   \n",
       "1                                                         always dry   \n",
       "2                        depth unknown  always under water/submerged   \n",
       "3                                                         always dry   \n",
       "4                        depth unknown  always under water/submerged   \n",
       "\n",
       "                coordinates  \n",
       "0  [-79.9081268, 9.3547792]  \n",
       "1  [-79.9357223, 9.3340302]  \n",
       "2  [-79.9074173, 9.3560572]  \n",
       "3  [-79.9137115, 9.3390503]  \n",
       "4  [-79.9103851, 9.3418808]  "
      ]
     },
     "execution_count": 6,
     "metadata": {},
     "output_type": "execute_result"
    }
   ],
   "source": [
    "# take a sneak ppeak at the data\n",
    "df.head()"
   ]
  },
  {
   "cell_type": "code",
   "execution_count": 7,
   "metadata": {},
   "outputs": [
    {
     "data": {
      "text/plain": [
       "(11095, 14)"
      ]
     },
     "execution_count": 7,
     "metadata": {},
     "output_type": "execute_result"
    }
   ],
   "source": [
    "## rows and columns of data frame\n",
    "df.shape"
   ]
  },
  {
   "cell_type": "code",
   "execution_count": 8,
   "metadata": {},
   "outputs": [
    {
     "data": {
      "text/plain": [
       "_id               object\n",
       "recrd             object\n",
       "vesslterms        object\n",
       "feature_type      object\n",
       "chart             object\n",
       "latdec           float64\n",
       "londec           float64\n",
       "gp_quality        object\n",
       "depth             object\n",
       "sounding_type     object\n",
       "history           object\n",
       "quasou            object\n",
       "watlev            object\n",
       "coordinates       object\n",
       "dtype: object"
      ]
     },
     "execution_count": 8,
     "metadata": {},
     "output_type": "execute_result"
    }
   ],
   "source": [
    "## data tyoe pf each column\n",
    "df.dtypes"
   ]
  },
  {
   "cell_type": "code",
   "execution_count": 9,
   "metadata": {},
   "outputs": [
    {
     "data": {
      "text/plain": [
       "array(['Wrecks - Visible', 'Wrecks - Submerged, dangerous',\n",
       "       'Wrecks - Submerged, nondangerous', '',\n",
       "       'distributed remains of wreck'], dtype=object)"
      ]
     },
     "execution_count": 9,
     "metadata": {},
     "output_type": "execute_result"
    }
   ],
   "source": [
    "## all unique values in the feature_type column\n",
    "df.feature_type.unique()"
   ]
  },
  {
   "cell_type": "code",
   "execution_count": 11,
   "metadata": {},
   "outputs": [
    {
     "data": {
      "text/html": [
       "<div>\n",
       "<style scoped>\n",
       "    .dataframe tbody tr th:only-of-type {\n",
       "        vertical-align: middle;\n",
       "    }\n",
       "\n",
       "    .dataframe tbody tr th {\n",
       "        vertical-align: top;\n",
       "    }\n",
       "\n",
       "    .dataframe thead th {\n",
       "        text-align: right;\n",
       "    }\n",
       "</style>\n",
       "<table border=\"1\" class=\"dataframe\">\n",
       "  <thead>\n",
       "    <tr style=\"text-align: right;\">\n",
       "      <th></th>\n",
       "      <th>_id</th>\n",
       "      <th>recrd</th>\n",
       "      <th>vesslterms</th>\n",
       "      <th>feature_type</th>\n",
       "      <th>chart</th>\n",
       "      <th>latdec</th>\n",
       "      <th>londec</th>\n",
       "      <th>gp_quality</th>\n",
       "      <th>depth</th>\n",
       "      <th>sounding_type</th>\n",
       "      <th>history</th>\n",
       "      <th>quasou</th>\n",
       "      <th>watlev</th>\n",
       "      <th>coordinates</th>\n",
       "    </tr>\n",
       "  </thead>\n",
       "  <tbody>\n",
       "    <tr>\n",
       "      <th>0</th>\n",
       "      <td>578f6fa2df35c7fbdbaed8c4</td>\n",
       "      <td></td>\n",
       "      <td></td>\n",
       "      <td>Wrecks - Visible</td>\n",
       "      <td>US,U1,graph,DNC H1409860</td>\n",
       "      <td>9.354779</td>\n",
       "      <td>-79.908127</td>\n",
       "      <td></td>\n",
       "      <td></td>\n",
       "      <td></td>\n",
       "      <td></td>\n",
       "      <td></td>\n",
       "      <td>always dry</td>\n",
       "      <td>[-79.9081268, 9.3547792]</td>\n",
       "    </tr>\n",
       "    <tr>\n",
       "      <th>1</th>\n",
       "      <td>578f6fa2df35c7fbdbaed8c5</td>\n",
       "      <td></td>\n",
       "      <td></td>\n",
       "      <td>Wrecks - Visible</td>\n",
       "      <td>US,U1,graph,DNC H1409860</td>\n",
       "      <td>9.334030</td>\n",
       "      <td>-79.935722</td>\n",
       "      <td></td>\n",
       "      <td></td>\n",
       "      <td></td>\n",
       "      <td></td>\n",
       "      <td></td>\n",
       "      <td>always dry</td>\n",
       "      <td>[-79.9357223, 9.3340302]</td>\n",
       "    </tr>\n",
       "    <tr>\n",
       "      <th>2</th>\n",
       "      <td>578f6fa2df35c7fbdbaed8c7</td>\n",
       "      <td></td>\n",
       "      <td></td>\n",
       "      <td>Wrecks - Visible</td>\n",
       "      <td>US,U1,graph,DNC H1409860</td>\n",
       "      <td>9.339050</td>\n",
       "      <td>-79.913712</td>\n",
       "      <td></td>\n",
       "      <td></td>\n",
       "      <td></td>\n",
       "      <td></td>\n",
       "      <td></td>\n",
       "      <td>always dry</td>\n",
       "      <td>[-79.9137115, 9.3390503]</td>\n",
       "    </tr>\n",
       "    <tr>\n",
       "      <th>3</th>\n",
       "      <td>578f6fa2df35c7fbdbaed8ca</td>\n",
       "      <td></td>\n",
       "      <td></td>\n",
       "      <td>Wrecks - Visible</td>\n",
       "      <td>US,US,reprt,L-1083/14</td>\n",
       "      <td>9.364139</td>\n",
       "      <td>-79.940556</td>\n",
       "      <td></td>\n",
       "      <td></td>\n",
       "      <td></td>\n",
       "      <td></td>\n",
       "      <td></td>\n",
       "      <td>always dry</td>\n",
       "      <td>[-79.940556, 9.3641392]</td>\n",
       "    </tr>\n",
       "    <tr>\n",
       "      <th>4</th>\n",
       "      <td>578f6fa2df35c7fbdbaed8cd</td>\n",
       "      <td></td>\n",
       "      <td></td>\n",
       "      <td>Wrecks - Visible</td>\n",
       "      <td>US,US,reprt,L-1-2015</td>\n",
       "      <td>9.360139</td>\n",
       "      <td>-79.908139</td>\n",
       "      <td></td>\n",
       "      <td></td>\n",
       "      <td></td>\n",
       "      <td></td>\n",
       "      <td></td>\n",
       "      <td>always dry</td>\n",
       "      <td>[-79.9081389, 9.3601389]</td>\n",
       "    </tr>\n",
       "  </tbody>\n",
       "</table>\n",
       "</div>"
      ],
      "text/plain": [
       "                        _id recrd vesslterms      feature_type  \\\n",
       "0  578f6fa2df35c7fbdbaed8c4                   Wrecks - Visible   \n",
       "1  578f6fa2df35c7fbdbaed8c5                   Wrecks - Visible   \n",
       "2  578f6fa2df35c7fbdbaed8c7                   Wrecks - Visible   \n",
       "3  578f6fa2df35c7fbdbaed8ca                   Wrecks - Visible   \n",
       "4  578f6fa2df35c7fbdbaed8cd                   Wrecks - Visible   \n",
       "\n",
       "                      chart    latdec     londec gp_quality depth  \\\n",
       "0  US,U1,graph,DNC H1409860  9.354779 -79.908127                    \n",
       "1  US,U1,graph,DNC H1409860  9.334030 -79.935722                    \n",
       "2  US,U1,graph,DNC H1409860  9.339050 -79.913712                    \n",
       "3     US,US,reprt,L-1083/14  9.364139 -79.940556                    \n",
       "4      US,US,reprt,L-1-2015  9.360139 -79.908139                    \n",
       "\n",
       "  sounding_type history quasou      watlev               coordinates  \n",
       "0                               always dry  [-79.9081268, 9.3547792]  \n",
       "1                               always dry  [-79.9357223, 9.3340302]  \n",
       "2                               always dry  [-79.9137115, 9.3390503]  \n",
       "3                               always dry   [-79.940556, 9.3641392]  \n",
       "4                               always dry  [-79.9081389, 9.3601389]  "
      ]
     },
     "execution_count": 11,
     "metadata": {},
     "output_type": "execute_result"
    }
   ],
   "source": [
    "## i want to see everything where the feature_type = Wrecks Visible\n",
    "pipeline =[\n",
    "    {\n",
    "        \"$match\":\n",
    "            {\n",
    "                \"feature_type\":\"Wrecks - Visible\"\n",
    "            }\n",
    "    }\n",
    "]\n",
    "\n",
    "## aggregate results into one dataframe called df2\n",
    "aggResult = col.aggregate(pipeline)\n",
    "df2 = pd.DataFrame(list(aggResult))\n",
    "df2.head()"
   ]
  },
  {
   "cell_type": "code",
   "execution_count": 19,
   "metadata": {},
   "outputs": [],
   "source": [
    "## use folium (leaflet.js)\n",
    "import folium\n",
    "\n",
    "\n",
    "world_map = folium.Map(location = [35,100], zoom_start = 4)\n",
    "\n",
    "for i in range(len(df2)):\n",
    "   folium.Marker(location = [df2.latdec[i],df2.londec[i]], icon=folium.Icon(color='red',icon='fa-ship', prefix='fa')).add_to(world_map)\n",
    "    \n",
    "world_map.save('world.html')"
   ]
  },
  {
   "cell_type": "code",
   "execution_count": null,
   "metadata": {},
   "outputs": [],
   "source": []
  }
 ],
 "metadata": {
  "kernelspec": {
   "display_name": "Python 3",
   "language": "python",
   "name": "python3"
  },
  "language_info": {
   "codemirror_mode": {
    "name": "ipython",
    "version": 3
   },
   "file_extension": ".py",
   "mimetype": "text/x-python",
   "name": "python",
   "nbconvert_exporter": "python",
   "pygments_lexer": "ipython3",
   "version": "3.8.5"
  }
 },
 "nbformat": 4,
 "nbformat_minor": 4
}
